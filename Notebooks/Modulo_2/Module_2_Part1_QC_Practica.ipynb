{
  "cells": [
    {
      "cell_type": "markdown",
      "metadata": {
        "id": "JyG45Qk3qQLS"
      },
      "source": [
        "## **Control de calidad inicial para la secuenciación del genoma del SARS-CoV-2 con iLLUMINA**\n",
        "\n",
        "\n",
        "El contenido del cuaderno puede resumirse en:\n",
        "\n",
        "* Descargar datos\n",
        "* Preparar el entorno e Instalar el software\n",
        "* Realizar un control de calidad de la ejecución\n"
      ]
    },
    {
      "cell_type": "markdown",
      "source": [
        "# Descargar datos"
      ],
      "metadata": {
        "id": "XpZkbJoJ0aWW"
      }
    },
    {
      "cell_type": "code",
      "source": [
        "!gdown 1JkUU3wcexm9Y532l6IbdIsdY4saMehJO ; unzip Illumina_READS.zip"
      ],
      "metadata": {
        "id": "ygMYpaDw0YnB",
        "collapsed": true
      },
      "execution_count": null,
      "outputs": []
    },
    {
      "cell_type": "code",
      "source": [
        "#Instala conda en el Notebook de google Colab\n",
        "!pip install -q condacolab\n",
        "import condacolab\n",
        "condacolab.install()"
      ],
      "metadata": {
        "id": "jymSg1rN92Ak"
      },
      "execution_count": null,
      "outputs": []
    },
    {
      "cell_type": "markdown",
      "source": [
        "# Instalar software\n",
        "\n",
        "Herramienta de control de calidad para datos de secuencia de alto rendimiento."
      ],
      "metadata": {
        "id": "fsIZH9hN5Ynw"
      }
    },
    {
      "cell_type": "code",
      "source": [
        "#Análisis de calidad de lecturas cortas\n",
        "  #https://github.com/s-andrews/FastQC\n",
        "!conda install -c bioconda fastqc"
      ],
      "metadata": {
        "id": "XcKwQKXw5X-n"
      },
      "execution_count": null,
      "outputs": []
    },
    {
      "cell_type": "code",
      "source": [
        "#permite visualizar todas las muestras en un solo reporte\n",
        "  #https://github.com/MultiQC/MultiQC\n",
        "!pip install multiqc"
      ],
      "metadata": {
        "id": "CN9dkdKoosrc"
      },
      "execution_count": null,
      "outputs": []
    },
    {
      "cell_type": "markdown",
      "source": [
        "# Formato fastq\n",
        "\n",
        "Todos los secuenciadores producen datos en un formato llamado **fastq**. Todas las secuencias con un fastq están representadas por 4 líneas:\n",
        "\n",
        "```\n",
        "@SEQ_ID                   <---- Nombre Secuencia\n",
        "AGCGTGTACTGTGCATGTCGATG   <---- Bases de la secuencia\n",
        "+                         <---- Linea separador\n",
        "%%).1***-+*''))**55CCFF   <---- Puntaje de Calidad ASCII\n",
        "\n",
        "```\n",
        "\n",
        "La calidad de las secuencias se representa como un carácter del código ASCII. Consulte [aquí](https://elcodigoascii.com.ar/) para obtener una explicación.\n",
        "Los valores numéricos corresponden a los valores de calidad phred"
      ],
      "metadata": {
        "id": "cCKzvpK9yzmt"
      }
    },
    {
      "cell_type": "markdown",
      "source": [
        "# Illumina QC"
      ],
      "metadata": {
        "id": "gEyqKnBS0NmF"
      }
    },
    {
      "cell_type": "code",
      "source": [
        "#Create a directory to store all FastQC results and run FastQC\n",
        "mkdir Illumina_fastqc_results"
      ],
      "metadata": {
        "id": "ow3nIVgNa0B_"
      },
      "execution_count": null,
      "outputs": []
    },
    {
      "cell_type": "code",
      "source": [
        "#Se ejecuta fastqc para los reportes de calidad de cada una de las muestras\n",
        "#!fastqc -o Nanopore_FastQC_report /content/Nanopore_READS/nanopore_fastq/barcode*/*\n",
        "!fastqc -o Illumina_fastqc_results RUTA/*"
      ],
      "metadata": {
        "id": "vYLLiJ-Rk64L"
      },
      "execution_count": null,
      "outputs": []
    },
    {
      "cell_type": "code",
      "source": [
        "#Se ejecuta multiqc\n",
        "!multiqc -?? /content/Illumina_fastqc_results/ /content/Illumina_fastqc_results/"
      ],
      "metadata": {
        "id": "6B57EggvPnOC"
      },
      "execution_count": null,
      "outputs": []
    },
    {
      "cell_type": "markdown",
      "source": [
        "Esta ejecución creará un archivo HTML (multiqc_report) con el resumen del reporte FastQC"
      ],
      "metadata": {
        "id": "kofR4BYv5msu"
      }
    },
    {
      "cell_type": "markdown",
      "source": [
        "\\Explora los resultados de cada directorio y reporta:\n",
        "\n",
        "**Cual de las muetsras tiene más reads?**\n",
        "\n",
        "**Describa la calidad de su muetsra seleccionada?**\n",
        "\n"
      ],
      "metadata": {
        "id": "hgXG-7xyE5LV"
      }
    },
    {
      "cell_type": "markdown",
      "source": [
        "\n",
        "Adaptación del curso B4B de Wellcome Connecting Science, Cursos Abiertos de Genómica, bioinformática y biología molecular.\n",
        "\n",
        "Para más información o para inscribirse en un curso, visite el [sitio web](https://coursesandconferences.wellcomeconnectingscience.org/) de Wellcome Connecting Science."
      ],
      "metadata": {
        "id": "isyL0LPB_nKs"
      }
    }
  ],
  "metadata": {
    "colab": {
      "provenance": []
    },
    "kernelspec": {
      "display_name": "Python 3",
      "name": "python3"
    }
  },
  "nbformat": 4,
  "nbformat_minor": 0
}